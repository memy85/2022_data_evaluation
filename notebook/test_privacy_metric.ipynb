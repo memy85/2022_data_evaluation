{
 "cells": [
  {
   "cell_type": "code",
   "execution_count": null,
   "metadata": {},
   "outputs": [],
   "source": []
  }
 ],
 "metadata": {
  "kernelspec": {
   "display_name": "Python 3.8.5 64-bit ('data_evaluation')",
   "language": "python",
   "name": "python3"
  },
  "language_info": {
   "name": "python",
   "version": "3.8.5"
  },
  "orig_nbformat": 4,
  "vscode": {
   "interpreter": {
    "hash": "d67676c5a09932fe66d2879e65524ee2db3f13432224e139d060647ffe6dbca1"
   }
  }
 },
 "nbformat": 4,
 "nbformat_minor": 2
}
